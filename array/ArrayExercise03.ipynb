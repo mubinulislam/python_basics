{
  "nbformat": 4,
  "nbformat_minor": 0,
  "metadata": {
    "colab": {
      "provenance": [],
      "authorship_tag": "ABX9TyNj+LpSod5iNrLOXSp1uCrP",
      "include_colab_link": true
    },
    "kernelspec": {
      "name": "python3",
      "display_name": "Python 3"
    },
    "language_info": {
      "name": "python"
    }
  },
  "cells": [
    {
      "cell_type": "markdown",
      "metadata": {
        "id": "view-in-github",
        "colab_type": "text"
      },
      "source": [
        "<a href=\"https://colab.research.google.com/github/mubinulislam/python_basics/blob/main/array/ArrayExercise03.ipynb\" target=\"_parent\"><img src=\"https://colab.research.google.com/assets/colab-badge.svg\" alt=\"Open In Colab\"/></a>"
      ]
    },
    {
      "cell_type": "markdown",
      "source": [
        "\n",
        "\n",
        "*   Create a list of all odd numbers between 1 and a max number. Max number is something you need to take from a user using input() function\n",
        "\n"
      ],
      "metadata": {
        "id": "W3ua1Z35cm7E"
      }
    },
    {
      "cell_type": "code",
      "source": [
        "odd_numbers=[]\n",
        "max=int(input(\"odd numbers between 1 and \"))\n",
        "for i in range(max):\n",
        "  if i%2!=0:\n",
        "    odd_numbers.append(i)\n",
        "\n",
        "print (odd_numbers)"
      ],
      "metadata": {
        "colab": {
          "base_uri": "https://localhost:8080/"
        },
        "id": "Oulg1HmycqEX",
        "outputId": "d41c2766-9def-483a-c77f-8aaa44934f04"
      },
      "execution_count": null,
      "outputs": [
        {
          "output_type": "stream",
          "name": "stdout",
          "text": [
            "odd numbers between 1 and 20\n",
            "[1, 3, 5, 7, 9, 11, 13, 15, 17, 19]\n"
          ]
        }
      ]
    }
  ]
}