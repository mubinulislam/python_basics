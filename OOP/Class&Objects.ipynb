{
  "nbformat": 4,
  "nbformat_minor": 0,
  "metadata": {
    "colab": {
      "provenance": [],
      "authorship_tag": "ABX9TyP2SolYjR0S2DGom5FVNqso",
      "include_colab_link": true
    },
    "kernelspec": {
      "name": "python3",
      "display_name": "Python 3"
    },
    "language_info": {
      "name": "python"
    }
  },
  "cells": [
    {
      "cell_type": "markdown",
      "metadata": {
        "id": "view-in-github",
        "colab_type": "text"
      },
      "source": [
        "<a href=\"https://colab.research.google.com/github/mubinulislam/python_basics/blob/main/OOP/Class%26Objects.ipynb\" target=\"_parent\"><img src=\"https://colab.research.google.com/assets/colab-badge.svg\" alt=\"Open In Colab\"/></a>"
      ]
    },
    {
      "cell_type": "code",
      "source": [
        "class employee:\n",
        "  def __init__(self):\n",
        "    self.id=int(input(\"enter your id: \"))\n",
        "    self.name=input(\"enter your name: \")\n",
        "    self.salary=float(input(\"enter your salary: \"))\n",
        "\n",
        "  def show(self):\n",
        "    print(\"employee id: \",self.id)\n",
        "    print(\"employee name: \", self.name)\n",
        "    print(\"Salary: \",self.salary)\n",
        "\n",
        "a=employee()\n",
        "print(a)\n",
        "a.show()\n"
      ],
      "metadata": {
        "colab": {
          "base_uri": "https://localhost:8080/"
        },
        "id": "wHjUsrCguFFF",
        "outputId": "130b024b-6340-45dc-a0f0-0b5cfe5d828d"
      },
      "execution_count": null,
      "outputs": [
        {
          "output_type": "stream",
          "name": "stdout",
          "text": [
            "enter your id: 1\n",
            "enter your name: w\n",
            "enter your salary: 1\n",
            "<__main__.employee object at 0x7bf82dcb55d0>\n"
          ]
        }
      ]
    },
    {
      "cell_type": "code",
      "source": [
        "class person:\n",
        "  def __init__(self,name,age):\n",
        "    self.name= name\n",
        "    self.age= age\n",
        "\n",
        "p1=person(\"mubin\",25)\n",
        "print(p1.name)\n"
      ],
      "metadata": {
        "colab": {
          "base_uri": "https://localhost:8080/"
        },
        "id": "ThP1XuZmshco",
        "outputId": "3fc7b28e-104a-4bba-e67b-61c447edeaa7"
      },
      "execution_count": null,
      "outputs": [
        {
          "output_type": "stream",
          "name": "stdout",
          "text": [
            "mubin\n"
          ]
        }
      ]
    },
    {
      "cell_type": "code",
      "source": [
        "class student:\n",
        "  def __init__(self,my_name,my_roll,my_marks):\n",
        "    self.name=my_name\n",
        "    self.roll=my_roll\n",
        "    self.marks=my_marks\n",
        "\n",
        "  def average(self):\n",
        "    return sum(self.marks)/len(self.marks)\n",
        "\n",
        "a=student(\"mubin\",1804059,[70,75,80,73,95])\n",
        "print(a.roll,a.average())\n",
        "print(a.average())"
      ],
      "metadata": {
        "colab": {
          "base_uri": "https://localhost:8080/"
        },
        "id": "DIdNBCtkOzkz",
        "outputId": "eaa2f256-3656-4ec1-c63a-e8a0e2833645"
      },
      "execution_count": null,
      "outputs": [
        {
          "output_type": "stream",
          "name": "stdout",
          "text": [
            "1804059 78.6\n",
            "78.6\n"
          ]
        }
      ]
    },
    {
      "cell_type": "code",
      "source": [
        "class OTTSubscription:\n",
        "  def __init__(self,subscription_id,plan,total_payment):\n",
        "    self.id=subscription_id\n",
        "    self.plan=plan\n",
        "    self.total_payment=total_payment\n",
        "\n",
        "  def subscribe(self):\n",
        "    print (f\"Subscriber with {self.id} subscribed to {self.plan} plan with {self.total_payment} taka\")\n",
        "\n",
        "  def unsubscribe(self):\n",
        "    print (f\"subscriber with {self.id} unsubscribed from {self.plan} plan with refundable {self.total_payment} taka\")\n",
        "\n",
        "a=OTTSubscription(1804059,\"regular\",1000)\n",
        "a.subscribe()\n",
        "a.unsubscribe()"
      ],
      "metadata": {
        "colab": {
          "base_uri": "https://localhost:8080/"
        },
        "id": "BCZeqlK8-eZp",
        "outputId": "e86c1f12-521b-4971-e891-87234faad7f7"
      },
      "execution_count": 4,
      "outputs": [
        {
          "output_type": "stream",
          "name": "stdout",
          "text": [
            "Subscriber with 1804059 subscribed to regular plan with 1000 taka\n",
            "subscriber with 1804059 unsubscribed from regular plan with refundable 1000 taka\n"
          ]
        }
      ]
    },
    {
      "cell_type": "markdown",
      "source": [
        "parent and child class"
      ],
      "metadata": {
        "id": "hV5BChIgJ9L3"
      }
    },
    {
      "cell_type": "code",
      "source": [
        "class OTTSubscription:\n",
        "  def __init__(self,subscription_id,plan,total_payment):\n",
        "    self.id=subscription_id\n",
        "    self.plan=plan\n",
        "    self.total_payment=total_payment\n",
        "\n",
        "  def subscribe(self):\n",
        "    print (f\"Subscriber with {self.id} subscribed to {self.plan} plan with {self.total_payment} taka\")\n",
        "\n",
        "  def unsubscribe(self):\n",
        "    print (f\"subscriber with {self.id} unsubscribed from {self.plan} plan with refundable {self.total_payment} taka\")\n",
        "\n",
        "class PremiumPlan(OTTSubscription):\n",
        "  def __init__(self,subscription_id,plan,total_payment,screens):\n",
        "    super().__init__(subscription_id,plan,total_payment)\n",
        "    self.max_screens=screens\n",
        "\n",
        "  def setscreen(self,screens):\n",
        "    self.max_screens=screens\n",
        "    print(f\"Maximum screen set to {self.max_screens}.\")\n",
        "\n",
        "myOTT=PremiumPlan(1212,\"premium\",200,1)\n",
        "myOTT.setscreen(4)\n",
        "myOTT.subscribe()"
      ],
      "metadata": {
        "colab": {
          "base_uri": "https://localhost:8080/"
        },
        "id": "Lux6DCiFJ8OM",
        "outputId": "8d8a8ceb-e26e-4b79-9390-ba4cfc067807"
      },
      "execution_count": 14,
      "outputs": [
        {
          "output_type": "stream",
          "name": "stdout",
          "text": [
            "Maximum screen set to 4.\n",
            "Subscriber with 1212 subscribed to premium plan with 200 taka\n"
          ]
        }
      ]
    }
  ]
}