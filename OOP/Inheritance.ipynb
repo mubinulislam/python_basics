{
  "nbformat": 4,
  "nbformat_minor": 0,
  "metadata": {
    "colab": {
      "provenance": [],
      "authorship_tag": "ABX9TyNleO3piCuSIxKtCEMcVZo6",
      "include_colab_link": true
    },
    "kernelspec": {
      "name": "python3",
      "display_name": "Python 3"
    },
    "language_info": {
      "name": "python"
    }
  },
  "cells": [
    {
      "cell_type": "markdown",
      "metadata": {
        "id": "view-in-github",
        "colab_type": "text"
      },
      "source": [
        "<a href=\"https://colab.research.google.com/github/mubinulislam/python_basics/blob/main/OOP/Inheritance.ipynb\" target=\"_parent\"><img src=\"https://colab.research.google.com/assets/colab-badge.svg\" alt=\"Open In Colab\"/></a>"
      ]
    },
    {
      "cell_type": "markdown",
      "source": [
        "Inheritance"
      ],
      "metadata": {
        "id": "UAAZPPaCkQJm"
      }
    },
    {
      "cell_type": "code",
      "execution_count": 1,
      "metadata": {
        "colab": {
          "base_uri": "https://localhost:8080/"
        },
        "id": "eL6Yo0msjqoD",
        "outputId": "6b9c0cf6-fe16-498e-e5ad-fb25ddf70441"
      },
      "outputs": [
        {
          "output_type": "stream",
          "name": "stdout",
          "text": [
            "i am car\n",
            "General usage: Transportation\n",
            "commute to work, vacation with family\n",
            "i am motor cycle\n",
            "General usage: Transportation\n",
            "specific use: road trip, racing\n",
            "True\n"
          ]
        }
      ],
      "source": [
        "class Vehicle:\n",
        "    def general_usage(self):\n",
        "        print(\"General usage: Transportation\")\n",
        "\n",
        "class Car (Vehicle):\n",
        "    def __init__(self):\n",
        "        print(\"i am car\")\n",
        "        self.wheels=4\n",
        "        self.has_roof = True\n",
        "    def specific_usage(self):\n",
        "        #self.general_usage()\n",
        "        print(\"commute to work, vacation with family\")\n",
        "\n",
        "class Motorcycle (Vehicle):\n",
        "    def __init__(self):\n",
        "        print(\"i am motor cycle\")\n",
        "        self.wheels = 2\n",
        "        self.has_roof = False\n",
        "    def specific_usage(self):\n",
        "        #self.general_usage()\n",
        "        print(\"specific use: road trip, racing\")\n",
        "c=Car()\n",
        "c.general_usage()\n",
        "c.specific_usage()\n",
        "\n",
        "m=Motorcycle()\n",
        "m.general_usage()\n",
        "m.specific_usage()\n",
        "print(isinstance(c,Car))\n"
      ]
    },
    {
      "cell_type": "markdown",
      "source": [
        "Multiple Inheritance"
      ],
      "metadata": {
        "id": "60YO-gwFke6_"
      }
    },
    {
      "cell_type": "code",
      "source": [
        "class Father:\n",
        "    def gardening(self):\n",
        "        print(\"i love gardening\")\n",
        "class Mother:\n",
        "    def cooking(self):\n",
        "        print(\"i love cooking\")\n",
        "\n",
        "class Child (Father,Mother):\n",
        "    def sports(self):\n",
        "        print(\"i love sports.\")\n",
        "\n",
        "c=Child()\n",
        "c.gardening()\n",
        "c.cooking()\n",
        "c.sports()"
      ],
      "metadata": {
        "colab": {
          "base_uri": "https://localhost:8080/"
        },
        "id": "4c5LAGI2khvw",
        "outputId": "e123c7c0-f7b0-4c69-a236-996c47262795"
      },
      "execution_count": 2,
      "outputs": [
        {
          "output_type": "stream",
          "name": "stdout",
          "text": [
            "i love gardening\n",
            "i love cooking\n",
            "i love sports.\n"
          ]
        }
      ]
    }
  ]
}