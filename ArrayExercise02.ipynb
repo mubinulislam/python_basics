{
  "nbformat": 4,
  "nbformat_minor": 0,
  "metadata": {
    "colab": {
      "provenance": [],
      "authorship_tag": "ABX9TyNQuBuZJxteyrWnFkMy0DKf",
      "include_colab_link": true
    },
    "kernelspec": {
      "name": "python3",
      "display_name": "Python 3"
    },
    "language_info": {
      "name": "python"
    }
  },
  "cells": [
    {
      "cell_type": "markdown",
      "metadata": {
        "id": "view-in-github",
        "colab_type": "text"
      },
      "source": [
        "<a href=\"https://colab.research.google.com/github/mubinulislam/python_basics/blob/main/ArrayExercise02.ipynb\" target=\"_parent\"><img src=\"https://colab.research.google.com/assets/colab-badge.svg\" alt=\"Open In Colab\"/></a>"
      ]
    },
    {
      "cell_type": "markdown",
      "source": [
        "Let us say your expense for every month are listed below,\n",
        "\n",
        "january - 2200\n",
        "\n",
        "February - 2350\n",
        "\n",
        "March - 2600\n",
        "\n",
        "April - 2130\n",
        "\n",
        "May - 2190"
      ],
      "metadata": {
        "id": "Tn67LpayRtdL"
      }
    },
    {
      "cell_type": "markdown",
      "source": [
        "Create a list to store these monthly expenses and using that find out,\n",
        "\n",
        "1. In Feb, how many dollars you spent extra compare to January?\n",
        "2. Find out your total expense in first quarter (first three months) of the year.\n",
        "3. Find out if you spent exactly 2000 dollars in any month\n",
        "4. June month just finished and your expense is 1980 dollar. Add this item to our monthly expense list\n",
        "5. You returned an item that you bought in a month of April and\n",
        "got a refund of 200$. Make a correction to your monthly expense list\n",
        "based on this"
      ],
      "metadata": {
        "id": "v1sXDMATRqIO"
      }
    },
    {
      "cell_type": "code",
      "source": [
        "#expense for every month are listed below,\n",
        "monthly_expense=[2200,2350,2600,2130,2190]"
      ],
      "metadata": {
        "id": "cJsFRLvNRrdV"
      },
      "execution_count": 1,
      "outputs": []
    },
    {
      "cell_type": "code",
      "source": [
        "#In Feb, how many dollars you spent extra compare to January?\n",
        "extra_dollars_february=monthly_expense[1]-monthly_expense[0]\n",
        "print(extra_dollars_february,\" dollars you spent extra compared to January.\")"
      ],
      "metadata": {
        "colab": {
          "base_uri": "https://localhost:8080/"
        },
        "id": "SIJ3ZLOQSjg2",
        "outputId": "33b13873-852e-4b0e-f2e4-b76b11406774"
      },
      "execution_count": 3,
      "outputs": [
        {
          "output_type": "stream",
          "name": "stdout",
          "text": [
            "150  dollars you spent extra compared to January.\n"
          ]
        }
      ]
    },
    {
      "cell_type": "code",
      "source": [
        "#Find out if you spent exactly 2000 dollars in any month\n",
        "for i in range(len(monthly_expense)):\n",
        "  if monthly_expense[i]==2000:\n",
        "    print(i)\n",
        "    break"
      ],
      "metadata": {
        "id": "O7Enlb__V6uL"
      },
      "execution_count": 10,
      "outputs": []
    },
    {
      "cell_type": "code",
      "source": [
        "#June month expense is 1980 dollar. Add this item to our monthly expense list\n",
        "monthly_expense.append(2000)\n",
        "print(monthly_expense)"
      ],
      "metadata": {
        "colab": {
          "base_uri": "https://localhost:8080/"
        },
        "id": "AK8aZJISaFip",
        "outputId": "c42b9cec-453c-4948-b2b4-7edda14ccbc0"
      },
      "execution_count": 11,
      "outputs": [
        {
          "output_type": "stream",
          "name": "stdout",
          "text": [
            "[2200, 2350, 2600, 2130, 2190, 2000]\n"
          ]
        }
      ]
    },
    {
      "cell_type": "code",
      "source": [
        "#You returned an item that you bought in a month of April and got a refund of 200$. Make a correction to your monthly expense list based on this\n",
        "monthly_expense[3]=monthly_expense[3]-200\n",
        "print(monthly_expense)"
      ],
      "metadata": {
        "colab": {
          "base_uri": "https://localhost:8080/"
        },
        "id": "hInuSQGPafte",
        "outputId": "71c9c245-f1ed-4d43-857d-53f07c7bf4bc"
      },
      "execution_count": 12,
      "outputs": [
        {
          "output_type": "stream",
          "name": "stdout",
          "text": [
            "[2200, 2350, 2600, 1930, 2190, 2000]\n"
          ]
        }
      ]
    },
    {
      "cell_type": "code",
      "source": [
        "#Find out your total expense in first quarter (first three months) of the year.\n",
        "print(\"total expense in first quarter of a year=\",monthly_expense[0]+monthly_expense[1]+monthly_expense[2], \"$\" )"
      ],
      "metadata": {
        "colab": {
          "base_uri": "https://localhost:8080/"
        },
        "id": "_Db0IlVcbNpl",
        "outputId": "a3248efa-f15c-40f4-a376-d8a8a55eec7e"
      },
      "execution_count": 14,
      "outputs": [
        {
          "output_type": "stream",
          "name": "stdout",
          "text": [
            "total expense in first quarter of a year= 7150 $\n"
          ]
        }
      ]
    }
  ]
}