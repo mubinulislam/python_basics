{
  "nbformat": 4,
  "nbformat_minor": 0,
  "metadata": {
    "colab": {
      "provenance": [],
      "authorship_tag": "ABX9TyMqMhkq1cuxS25l7UBL8Cu0",
      "include_colab_link": true
    },
    "kernelspec": {
      "name": "python3",
      "display_name": "Python 3"
    },
    "language_info": {
      "name": "python"
    }
  },
  "cells": [
    {
      "cell_type": "markdown",
      "metadata": {
        "id": "view-in-github",
        "colab_type": "text"
      },
      "source": [
        "<a href=\"https://colab.research.google.com/github/mubinulislam/python_basics/blob/main/FindDuplicateNumber.ipynb\" target=\"_parent\"><img src=\"https://colab.research.google.com/assets/colab-badge.svg\" alt=\"Open In Colab\"/></a>"
      ]
    },
    {
      "cell_type": "code",
      "source": [
        "numbers=[3,6,4,2,3,6,8,9]\n",
        "\n",
        "for i in range(len(numbers)):\n",
        "  for j in range(i+1,len(numbers)):\n",
        "    if numbers[i]==numbers[j]:\n",
        "      print(numbers[i],\" is duplicate\")\n",
        "      break"
      ],
      "metadata": {
        "colab": {
          "base_uri": "https://localhost:8080/"
        },
        "id": "vvW2pFTzIGKw",
        "outputId": "8890560b-4578-441e-c85a-22606511f6c2"
      },
      "execution_count": 2,
      "outputs": [
        {
          "output_type": "stream",
          "name": "stdout",
          "text": [
            "3  is duplicate\n",
            "6  is duplicate\n"
          ]
        }
      ]
    }
  ]
}